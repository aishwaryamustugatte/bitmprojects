{
 "cells": [
  {
   "cell_type": "code",
   "execution_count": 1,
   "id": "facc348f-5b06-49b4-98dd-58aa7c3f94b5",
   "metadata": {},
   "outputs": [
    {
     "name": "stdin",
     "output_type": "stream",
     "text": [
      " 3\n",
      " 5\n"
     ]
    },
    {
     "name": "stdout",
     "output_type": "stream",
     "text": [
      "8\n",
      "-2\n",
      "15\n"
     ]
    }
   ],
   "source": [
    "if __name__ == '__main__':\n",
    "    a = int(input())\n",
    "    b = int(input())\n",
    "    sum=a+b\n",
    "    dif=a-b\n",
    "    prod=a*b\n",
    "    print(sum)\n",
    "    print(dif)\n",
    "    print(prod)"
   ]
  },
  {
   "cell_type": "code",
   "execution_count": 2,
   "id": "1af7bba5-e0d0-49b3-b741-88c6546cf567",
   "metadata": {},
   "outputs": [
    {
     "name": "stdin",
     "output_type": "stream",
     "text": [
      " 4\n",
      " 3\n"
     ]
    },
    {
     "name": "stdout",
     "output_type": "stream",
     "text": [
      "7\n",
      "1\n",
      "12\n"
     ]
    }
   ],
   "source": [
    "if __name__ == '__main__':\n",
    "    a = int(input())\n",
    "    b = int(input())\n",
    "    sum=a+b\n",
    "    dif=a-b\n",
    "    prod=a*b\n",
    "    print(sum)\n",
    "    print(dif)\n",
    "    print(prod)"
   ]
  },
  {
   "cell_type": "code",
   "execution_count": null,
   "id": "e8cfa7c2-ed70-468e-b1c3-d76a15690ba8",
   "metadata": {},
   "outputs": [],
   "source": []
  }
 ],
 "metadata": {
  "kernelspec": {
   "display_name": "Python 3 (ipykernel)",
   "language": "python",
   "name": "python3"
  },
  "language_info": {
   "codemirror_mode": {
    "name": "ipython",
    "version": 3
   },
   "file_extension": ".py",
   "mimetype": "text/x-python",
   "name": "python",
   "nbconvert_exporter": "python",
   "pygments_lexer": "ipython3",
   "version": "3.11.7"
  }
 },
 "nbformat": 4,
 "nbformat_minor": 5
}
