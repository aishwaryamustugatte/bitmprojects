{
 "cells": [
  {
   "cell_type": "code",
   "execution_count": 1,
   "id": "3cce7bbe-ec36-4daf-afbb-d79c56e261c9",
   "metadata": {},
   "outputs": [
    {
     "name": "stdin",
     "output_type": "stream",
     "text": [
      " 3\n",
      " 5\n"
     ]
    },
    {
     "name": "stdout",
     "output_type": "stream",
     "text": [
      "0\n",
      "0.6\n"
     ]
    }
   ],
   "source": [
    "if __name__ == '__main__':\n",
    "    a = int(input())\n",
    "    b = int(input())\n",
    "    res1=a//b\n",
    "    res2=a/b\n",
    "    print(res1)\n",
    "    print(res2)"
   ]
  },
  {
   "cell_type": "code",
   "execution_count": 2,
   "id": "d71dddb6-d1b0-4fa2-87ba-b0592b641ce7",
   "metadata": {},
   "outputs": [
    {
     "name": "stdin",
     "output_type": "stream",
     "text": [
      " 4\n",
      " 3\n"
     ]
    },
    {
     "name": "stdout",
     "output_type": "stream",
     "text": [
      "1\n",
      "1.3333333333333333\n"
     ]
    }
   ],
   "source": [
    "if __name__ == '__main__':\n",
    "    a = int(input())\n",
    "    b = int(input())\n",
    "    res1=a//b\n",
    "    res2=a/b\n",
    "    print(res1)\n",
    "    print(res2)"
   ]
  },
  {
   "cell_type": "code",
   "execution_count": null,
   "id": "b793bda7-9043-4397-8e54-ff81454edea5",
   "metadata": {},
   "outputs": [],
   "source": []
  }
 ],
 "metadata": {
  "kernelspec": {
   "display_name": "Python 3 (ipykernel)",
   "language": "python",
   "name": "python3"
  },
  "language_info": {
   "codemirror_mode": {
    "name": "ipython",
    "version": 3
   },
   "file_extension": ".py",
   "mimetype": "text/x-python",
   "name": "python",
   "nbconvert_exporter": "python",
   "pygments_lexer": "ipython3",
   "version": "3.11.7"
  }
 },
 "nbformat": 4,
 "nbformat_minor": 5
}
